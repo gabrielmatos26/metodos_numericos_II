{
 "cells": [
  {
   "cell_type": "code",
   "execution_count": 18,
   "metadata": {
    "collapsed": true
   },
   "outputs": [],
   "source": [
    "import numpy as np\n",
    "from matplotlib import pyplot as plt\n",
    "from itertools import combinations\n",
    "%matplotlib inline"
   ]
  },
  {
   "cell_type": "code",
   "execution_count": 67,
   "metadata": {},
   "outputs": [],
   "source": [
    "def f(lambda2, lambda3, d):\n",
    "    f_out = []\n",
    "    for i in lambda2:\n",
    "        for j in lambda3:\n",
    "            f_out.append((i**2 - d[0]**2)**2 + ((i-j)**2 - d[1]**2)**2 + (j**2 - d[2]**2)**2)\n",
    "    return f_out\n",
    "    \n",
    "#def df(lambda2, lambda3, d):\n",
    "#    i = lambda2\n",
    "#    j = lambda3\n",
    "#    return np.asarray([4*(i**2-d[0]**2)*i + 4*((i-j)**2 - d[2]**2)*(i-j), \n",
    "#            4*(j**2-d[1]**2)*j - 4*((i-j)**2 - d[2]**2)*(i-j)])\n",
    "\n",
    "def df(lambdas, dists):\n",
    "    pairs = list(combinations(list(range(len(lambdas)+1)), 2))\n",
    "    derivatives = []\n",
    "    for i,l in enumerate(lambdas):\n",
    "        di = 0\n",
    "        for pair, d in zip(pairs, dists):\n",
    "            if pair[0] == 0 and i+1 == pair[1]:\n",
    "                di += 4*l*(l**2-d**2)\n",
    "            elif i+1 == pair[0]:\n",
    "                di += 4*(l-lambdas[pair[1]-1])*((l-lambdas[pair[1]-1])**2 - d**2)\n",
    "            elif i+1 == pair[1]:\n",
    "                di -= 4*(l-lambdas[pair[1]-1])*((l-lambdas[pair[1]-1])**2 - d**2)\n",
    "        derivatives.append(di)\n",
    "    return np.asarray(derivatives)\n",
    "                \n",
    "\n",
    "def grad_desc(point, d, step, tol=1e-2):\n",
    "    actual = point\n",
    "    next_v = actual + step*df(point, d)\n",
    "    while np.linalg.norm(actual - next_v) > tol:\n",
    "        actual = next_v\n",
    "        next_v = actual + step*df(actual,d)\n",
    "        \n",
    "    return actual\n",
    "\n",
    "def generate_distances(points):\n",
    "    dists = []\n",
    "    pairs = list(combinations(list(range(len(points))), 2))\n",
    "    for pair in pairs:\n",
    "        dists.append(abs(points[pair[0]] - points[pair[1]]))\n",
    "    return np.asarray(dists)\n",
    "    \n",
    "    \n",
    "    "
   ]
  },
  {
   "cell_type": "code",
   "execution_count": 72,
   "metadata": {},
   "outputs": [
    {
     "name": "stdout",
     "output_type": "stream",
     "text": [
      "Original points:  [0 9 7 6 3 8 4 1 2]\n",
      "Original distances:  [9 7 6 3 8 4 1 2 2 3 6 1 5 8 7 1 4 1 3 6 5 3 2 2 5 4 5 1 2 1 4 7 6 3 2 1]\n",
      "Points:  [ 9.42087333  7.39134544  6.36314242  3.40656791  8.40859783  4.31888088\n",
      "  1.4820774   3.27024879]\n"
     ]
    },
    {
     "data": {
      "image/png": "[encoded data removed]",
      "text/plain": [
       "<matplotlib.figure.Figure at 0x7ff5a90abba8>"
      ]
     },
     "metadata": {},
     "output_type": "display_data"
    }
   ],
   "source": [
    "#lambdas = np.array([0,5,8])\n",
    "pts_size = 10\n",
    "lambdas = np.arange(1,10)\n",
    "np.random.shuffle(lambdas)\n",
    "lambdas = lambdas[:pts_size]\n",
    "lambdas[0] = 0\n",
    "print('Original points: ', lambdas)\n",
    "dists = generate_distances(lambdas)\n",
    "print('Original distances: ', dists)\n",
    "#delta = 1\n",
    "#lambda2 = np.arange(-5,5, delta)\n",
    "#lambda3 = np.arange(-4,4, delta)\n",
    "#x,y = np.meshgrid(lambda2, lambda3)\n",
    "#print(x.shape, y.shape)\n",
    "#f_vals = np.asarray(f(lambda2, lambda3, [data[0,2], data[1,2], data[0,2]])).reshape(x.shape)\n",
    "random_pt = np.random.randint(lambdas.max()+5, size=(len(lambdas)-1))\n",
    "min_val = grad_desc(random_pt, dists, -1e-6, tol=1e-4)\n",
    "#min_val = grad_desc(np.array([4,3]), dists, -1e-6, tol=1e-4)\n",
    "print('Points: ', min_val)\n",
    "plt.figure()\n",
    "#CS = plt.contour(x,y,f_vals)\n",
    "plt.scatter([0],[0],color='r')\n",
    "plt.scatter(min_val, np.zeros(min_val.shape),color='b')\n",
    "plt.show()"
   ]
  }
 ],
 "metadata": {
  "kernelspec": {
   "display_name": "Python 3",
   "language": "python",
   "name": "python3"
  },
  "language_info": {
   "codemirror_mode": {
    "name": "ipython",
    "version": 3
   },
   "file_extension": ".py",
   "mimetype": "text/x-python",
   "name": "python",
   "nbconvert_exporter": "python",
   "pygments_lexer": "ipython3",
   "version": "3.5.2"
  }
 },
 "nbformat": 4,
 "nbformat_minor": 2
}
